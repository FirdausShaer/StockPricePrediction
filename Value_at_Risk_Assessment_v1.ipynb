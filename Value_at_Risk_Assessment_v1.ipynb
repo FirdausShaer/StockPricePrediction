{
  "cells": [
    {
      "cell_type": "markdown",
      "metadata": {
        "id": "DhABxXGGG41q"
      },
      "source": [
        "# Value at Risk Assessment Model"
      ]
    },
    {
      "cell_type": "markdown",
      "metadata": {
        "id": "2RPdfXEEG41t"
      },
      "source": [
        "### Import Packages"
      ]
    },
    {
      "cell_type": "code",
      "execution_count": 2,
      "metadata": {
        "id": "vfRHja5xG41u",
        "colab": {
          "base_uri": "https://localhost:8080/"
        },
        "outputId": "49d2eaf5-f64f-478c-d0eb-a931d0dd6603"
      },
      "outputs": [
        {
          "output_type": "stream",
          "name": "stdout",
          "text": [
            "Looking in indexes: https://pypi.org/simple, https://us-python.pkg.dev/colab-wheels/public/simple/\n",
            "Collecting yfinance\n",
            "  Downloading yfinance-0.2.12-py2.py3-none-any.whl (59 kB)\n",
            "\u001b[2K     \u001b[90m━━━━━━━━━━━━━━━━━━━━━━━━━━━━━━━━━━━━━━━━\u001b[0m \u001b[32m59.2/59.2 KB\u001b[0m \u001b[31m3.5 MB/s\u001b[0m eta \u001b[36m0:00:00\u001b[0m\n",
            "\u001b[?25hRequirement already satisfied: lxml>=4.9.1 in /usr/local/lib/python3.9/dist-packages (from yfinance) (4.9.2)\n",
            "Requirement already satisfied: pandas>=1.3.0 in /usr/local/lib/python3.9/dist-packages (from yfinance) (1.4.4)\n",
            "Requirement already satisfied: numpy>=1.16.5 in /usr/local/lib/python3.9/dist-packages (from yfinance) (1.22.4)\n",
            "Collecting frozendict>=2.3.4\n",
            "  Downloading frozendict-2.3.5-cp39-cp39-manylinux_2_17_x86_64.manylinux2014_x86_64.whl (112 kB)\n",
            "\u001b[2K     \u001b[90m━━━━━━━━━━━━━━━━━━━━━━━━━━━━━━━━━━━━━━━\u001b[0m \u001b[32m112.8/112.8 KB\u001b[0m \u001b[31m7.5 MB/s\u001b[0m eta \u001b[36m0:00:00\u001b[0m\n",
            "\u001b[?25hCollecting html5lib>=1.1\n",
            "  Downloading html5lib-1.1-py2.py3-none-any.whl (112 kB)\n",
            "\u001b[2K     \u001b[90m━━━━━━━━━━━━━━━━━━━━━━━━━━━━━━━━━━━━━━\u001b[0m \u001b[32m112.2/112.2 KB\u001b[0m \u001b[31m11.6 MB/s\u001b[0m eta \u001b[36m0:00:00\u001b[0m\n",
            "\u001b[?25hCollecting requests>=2.26\n",
            "  Downloading requests-2.28.2-py3-none-any.whl (62 kB)\n",
            "\u001b[2K     \u001b[90m━━━━━━━━━━━━━━━━━━━━━━━━━━━━━━━━━━━━━━━━\u001b[0m \u001b[32m62.8/62.8 KB\u001b[0m \u001b[31m4.2 MB/s\u001b[0m eta \u001b[36m0:00:00\u001b[0m\n",
            "\u001b[?25hRequirement already satisfied: multitasking>=0.0.7 in /usr/local/lib/python3.9/dist-packages (from yfinance) (0.0.11)\n",
            "Requirement already satisfied: pytz>=2022.5 in /usr/local/lib/python3.9/dist-packages (from yfinance) (2022.7.1)\n",
            "Collecting cryptography>=3.3.2\n",
            "  Downloading cryptography-39.0.2-cp36-abi3-manylinux_2_28_x86_64.whl (4.2 MB)\n",
            "\u001b[2K     \u001b[90m━━━━━━━━━━━━━━━━━━━━━━━━━━━━━━━━━━━━━━━━\u001b[0m \u001b[32m4.2/4.2 MB\u001b[0m \u001b[31m52.7 MB/s\u001b[0m eta \u001b[36m0:00:00\u001b[0m\n",
            "\u001b[?25hCollecting appdirs>=1.4.4\n",
            "  Downloading appdirs-1.4.4-py2.py3-none-any.whl (9.6 kB)\n",
            "Collecting beautifulsoup4>=4.11.1\n",
            "  Downloading beautifulsoup4-4.11.2-py3-none-any.whl (129 kB)\n",
            "\u001b[2K     \u001b[90m━━━━━━━━━━━━━━━━━━━━━━━━━━━━━━━━━━━━━━\u001b[0m \u001b[32m129.4/129.4 KB\u001b[0m \u001b[31m13.1 MB/s\u001b[0m eta \u001b[36m0:00:00\u001b[0m\n",
            "\u001b[?25hRequirement already satisfied: soupsieve>1.2 in /usr/local/lib/python3.9/dist-packages (from beautifulsoup4>=4.11.1->yfinance) (2.4)\n",
            "Requirement already satisfied: cffi>=1.12 in /usr/local/lib/python3.9/dist-packages (from cryptography>=3.3.2->yfinance) (1.15.1)\n",
            "Requirement already satisfied: webencodings in /usr/local/lib/python3.9/dist-packages (from html5lib>=1.1->yfinance) (0.5.1)\n",
            "Requirement already satisfied: six>=1.9 in /usr/local/lib/python3.9/dist-packages (from html5lib>=1.1->yfinance) (1.15.0)\n",
            "Requirement already satisfied: python-dateutil>=2.8.1 in /usr/local/lib/python3.9/dist-packages (from pandas>=1.3.0->yfinance) (2.8.2)\n",
            "Requirement already satisfied: certifi>=2017.4.17 in /usr/local/lib/python3.9/dist-packages (from requests>=2.26->yfinance) (2022.12.7)\n",
            "Requirement already satisfied: idna<4,>=2.5 in /usr/local/lib/python3.9/dist-packages (from requests>=2.26->yfinance) (2.10)\n",
            "Collecting charset-normalizer<4,>=2\n",
            "  Downloading charset_normalizer-3.1.0-cp39-cp39-manylinux_2_17_x86_64.manylinux2014_x86_64.whl (199 kB)\n",
            "\u001b[2K     \u001b[90m━━━━━━━━━━━━━━━━━━━━━━━━━━━━━━━━━━━━━━\u001b[0m \u001b[32m199.2/199.2 KB\u001b[0m \u001b[31m18.7 MB/s\u001b[0m eta \u001b[36m0:00:00\u001b[0m\n",
            "\u001b[?25hRequirement already satisfied: urllib3<1.27,>=1.21.1 in /usr/local/lib/python3.9/dist-packages (from requests>=2.26->yfinance) (1.26.15)\n",
            "Requirement already satisfied: pycparser in /usr/local/lib/python3.9/dist-packages (from cffi>=1.12->cryptography>=3.3.2->yfinance) (2.21)\n",
            "Installing collected packages: appdirs, html5lib, frozendict, charset-normalizer, beautifulsoup4, requests, cryptography, yfinance\n",
            "  Attempting uninstall: html5lib\n",
            "    Found existing installation: html5lib 1.0.1\n",
            "    Uninstalling html5lib-1.0.1:\n",
            "      Successfully uninstalled html5lib-1.0.1\n",
            "  Attempting uninstall: beautifulsoup4\n",
            "    Found existing installation: beautifulsoup4 4.9.3\n",
            "    Uninstalling beautifulsoup4-4.9.3:\n",
            "      Successfully uninstalled beautifulsoup4-4.9.3\n",
            "  Attempting uninstall: requests\n",
            "    Found existing installation: requests 2.25.1\n",
            "    Uninstalling requests-2.25.1:\n",
            "      Successfully uninstalled requests-2.25.1\n",
            "Successfully installed appdirs-1.4.4 beautifulsoup4-4.11.2 charset-normalizer-3.1.0 cryptography-39.0.2 frozendict-2.3.5 html5lib-1.1 requests-2.28.2 yfinance-0.2.12\n"
          ]
        }
      ],
      "source": [
        "!pip install yfinance\n",
        "# Import packages\n",
        "import numpy as np\n",
        "import pandas as pd\n",
        "import matplotlib.pyplot as plt\n",
        "import yfinance as yf"
      ]
    },
    {
      "cell_type": "markdown",
      "metadata": {
        "id": "d5W6RwdIG41v"
      },
      "source": [
        "### Distributions - Set Up Stock Parameters"
      ]
    },
    {
      "cell_type": "code",
      "execution_count": 3,
      "metadata": {
        "id": "S4lUCx5nG41v",
        "colab": {
          "base_uri": "https://localhost:8080/"
        },
        "outputId": "238f71e1-b4f0-4999-db21-a99da21050f9"
      },
      "outputs": [
        {
          "output_type": "stream",
          "name": "stdout",
          "text": [
            "yfinance.Ticker object <ABC>\n",
            "---------\n",
            "148.8350067138672\n"
          ]
        }
      ],
      "source": [
        "# Number of shares\n",
        "shares_MSFT = 1000\n",
        "\n",
        "# Live stock price\n",
        "price = yf.Ticker('ABC')\n",
        "price_MSFT = price.history().tail(1)['Close'].iloc[0]\n",
        "\n",
        "print(price)\n",
        "print('---------')\n",
        "print(price_MSFT)"
      ]
    },
    {
      "cell_type": "code",
      "execution_count": 4,
      "metadata": {
        "id": "76xj8cmqG41v"
      },
      "outputs": [],
      "source": [
        "# Investment value\n",
        "value_MSFT = price_MSFT * shares_MSFT\n",
        "\n",
        "# Risk free rate (4 week treasury bill rate)\n",
        "rfr_MSFT = 0.02 \n",
        "\n",
        "# Volatility (30-day volatility at that time)\n",
        "vol_MSFT = 0.2116"
      ]
    },
    {
      "cell_type": "markdown",
      "metadata": {
        "id": "0RRGdvW5G41w"
      },
      "source": [
        "### Simulations - Calculate Investment Returns"
      ]
    },
    {
      "cell_type": "code",
      "execution_count": 5,
      "metadata": {
        "id": "EhL5ICKPG41w"
      },
      "outputs": [],
      "source": [
        "# Number of simulations\n",
        "simulations = 5000 \n",
        "\n",
        "# Investment time in a year\n",
        "t_MSFT = 21/252 "
      ]
    },
    {
      "cell_type": "code",
      "execution_count": 6,
      "metadata": {
        "id": "Ta7hVoQ7G41w",
        "colab": {
          "base_uri": "https://localhost:8080/",
          "height": 820
        },
        "outputId": "d2f5398c-0a08-4833-9329-4cf06ba14929"
      },
      "outputs": [
        {
          "output_type": "execute_result",
          "data": {
            "text/plain": [
              "(array([  1.,   0.,   0.,   0.,   1.,   0.,   2.,   0.,   1.,   2.,   0.,\n",
              "          3.,   3.,   2.,   3.,   4.,   3.,   3.,  11.,   3.,  12.,  12.,\n",
              "         16.,  17.,  17.,  27.,  20.,  23.,  35.,  34.,  49.,  50.,  45.,\n",
              "         67.,  70.,  80.,  86., 116.,  92., 101., 130., 141., 119., 144.,\n",
              "        136., 120., 145., 145., 163., 130., 143., 140., 155., 152., 162.,\n",
              "        157., 147., 138., 112., 140.,  98., 118., 100.,  84.,  88.,  70.,\n",
              "         66.,  61.,  65.,  64.,  44.,  36.,  45.,  23.,  31.,  27.,  13.,\n",
              "         18.,  15.,  12.,  16.,  15.,  10.,   8.,   7.,   4.,   8.,   4.,\n",
              "          5.,   7.,   2.,   1.,   1.,   1.,   2.,   0.,   0.,   0.,   0.,\n",
              "          1.]),\n",
              " array([-3.86153281, -3.78561741, -3.70970201, -3.63378661, -3.55787121,\n",
              "        -3.48195581, -3.40604041, -3.33012501, -3.25420961, -3.17829421,\n",
              "        -3.10237882, -3.02646342, -2.95054802, -2.87463262, -2.79871722,\n",
              "        -2.72280182, -2.64688642, -2.57097102, -2.49505562, -2.41914022,\n",
              "        -2.34322482, -2.26730942, -2.19139402, -2.11547862, -2.03956322,\n",
              "        -1.96364782, -1.88773242, -1.81181702, -1.73590162, -1.65998622,\n",
              "        -1.58407082, -1.50815542, -1.43224002, -1.35632462, -1.28040922,\n",
              "        -1.20449382, -1.12857842, -1.05266302, -0.97674762, -0.90083222,\n",
              "        -0.82491683, -0.74900143, -0.67308603, -0.59717063, -0.52125523,\n",
              "        -0.44533983, -0.36942443, -0.29350903, -0.21759363, -0.14167823,\n",
              "        -0.06576283,  0.01015257,  0.08606797,  0.16198337,  0.23789877,\n",
              "         0.31381417,  0.38972957,  0.46564497,  0.54156037,  0.61747577,\n",
              "         0.69339117,  0.76930657,  0.84522197,  0.92113737,  0.99705277,\n",
              "         1.07296817,  1.14888357,  1.22479897,  1.30071437,  1.37662976,\n",
              "         1.45254516,  1.52846056,  1.60437596,  1.68029136,  1.75620676,\n",
              "         1.83212216,  1.90803756,  1.98395296,  2.05986836,  2.13578376,\n",
              "         2.21169916,  2.28761456,  2.36352996,  2.43944536,  2.51536076,\n",
              "         2.59127616,  2.66719156,  2.74310696,  2.81902236,  2.89493776,\n",
              "         2.97085316,  3.04676856,  3.12268396,  3.19859936,  3.27451476,\n",
              "         3.35043016,  3.42634556,  3.50226096,  3.57817635,  3.65409175,\n",
              "         3.73000715]),\n",
              " <BarContainer object of 100 artists>)"
            ]
          },
          "metadata": {},
          "execution_count": 6
        },
        {
          "output_type": "display_data",
          "data": {
            "text/plain": [
              "<Figure size 432x288 with 1 Axes>"
            ],
            "image/png": "[encoded data removed]"
          },
          "metadata": {
            "needs_background": "light"
          }
        }
      ],
      "source": [
        "# Explain np.random.standard_normal\n",
        "sample = np.random.standard_normal(5000)\n",
        "plt.hist(sample,bins=100)"
      ]
    },
    {
      "cell_type": "code",
      "execution_count": 7,
      "metadata": {
        "id": "0_f89juWG41x",
        "colab": {
          "base_uri": "https://localhost:8080/"
        },
        "outputId": "1bd315c1-a299-4bff-e88b-15c0ad9c586f"
      },
      "outputs": [
        {
          "output_type": "stream",
          "name": "stdout",
          "text": [
            "-0.0018834823733587499\n",
            "0.997405208023458\n"
          ]
        }
      ],
      "source": [
        "print(np.mean(sample))\n",
        "print(np.std(sample))"
      ]
    },
    {
      "cell_type": "code",
      "source": [
        "# Create a function to calculate the returns of the investment\n",
        "def VaR(pv, rfr, vol, t, simulations):\n",
        "    end_value = pv * np.exp((rfr - .5 * vol ** 2) * t + np.random.standard_normal(\n",
        "        simulations) * vol * np.sqrt(t))\n",
        "    returns = end_value - pv\n",
        "    return returns\n",
        "\n",
        "# Apply the VaR function to simulate the returns\n",
        "returns_MSFT = VaR(value_MSFT, rfr_MSFT, vol_MSFT, t_MSFT, simulations)"
      ],
      "metadata": {
        "id": "gn-Jo6OQ1UJy"
      },
      "execution_count": 8,
      "outputs": []
    },
    {
      "cell_type": "markdown",
      "metadata": {
        "id": "v8wA9yxHG41x"
      },
      "source": [
        "### Quantifications - Identify VaR at 90%, 95%, and 99% Confidence Level"
      ]
    },
    {
      "cell_type": "code",
      "execution_count": 9,
      "metadata": {
        "id": "6-QygAyMG41x",
        "colab": {
          "base_uri": "https://localhost:8080/"
        },
        "outputId": "111bf7c7-4a2a-4993-980e-85380377a86c"
      },
      "outputs": [
        {
          "output_type": "stream",
          "name": "stdout",
          "text": [
            "VaR at 90% confidence level: $3,455\n"
          ]
        }
      ],
      "source": [
        "# Print: VaR at x% confidence level: $y.\n",
        "\n",
        "x = 0.9\n",
        "y = 3455.248\n",
        "print(\"VaR at {:.0%} confidence level: ${:,.0f}\".format(x, y))"
      ]
    },
    {
      "cell_type": "code",
      "execution_count": 10,
      "metadata": {
        "id": "KxCc8t0yG41x",
        "colab": {
          "base_uri": "https://localhost:8080/",
          "height": 317
        },
        "outputId": "3ca3e1be-1696-4b79-f4aa-dafe67ddcab5"
      },
      "outputs": [
        {
          "output_type": "stream",
          "name": "stdout",
          "text": [
            "VaR at 90% confidence level: $-11,150\n",
            "VaR at 95% confidence level: $-14,474\n",
            "VaR at 99% confidence level: $-19,830\n"
          ]
        },
        {
          "output_type": "display_data",
          "data": {
            "text/plain": [
              "<Figure size 432x288 with 1 Axes>"
            ],
            "image/png": "[encoded data removed]"
          },
          "metadata": {
            "needs_background": "light"
          }
        }
      ],
      "source": [
        "# Plot the returns\n",
        "plt.hist(returns_MSFT, bins=100);\n",
        "\n",
        "# Show VaR at 90%, 95%, and 99% confidence level\n",
        "percentiles = [10,5,1]\n",
        "\n",
        "for i in percentiles:\n",
        "    confidence = (100-i)/100\n",
        "    value = np.percentile(returns_MSFT, i)\n",
        "    print(\"VaR at {:.0%} confidence level: ${:,.0f}\".format(confidence, value))\n",
        "    plt.axvline(value, color = 'red', linestyle='dashed', linewidth=1)"
      ]
    }
  ],
  "metadata": {
    "colab": {
      "provenance": []
    },
    "kernelspec": {
      "display_name": "Python 3",
      "language": "python",
      "name": "python3"
    },
    "language_info": {
      "codemirror_mode": {
        "name": "ipython",
        "version": 3
      },
      "file_extension": ".py",
      "mimetype": "text/x-python",
      "name": "python",
      "nbconvert_exporter": "python",
      "pygments_lexer": "ipython3",
      "version": "3.7.3"
    }
  },
  "nbformat": 4,
  "nbformat_minor": 0
}